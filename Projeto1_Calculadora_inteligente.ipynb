{
  "nbformat": 4,
  "nbformat_minor": 0,
  "metadata": {
    "colab": {
      "provenance": [],
      "authorship_tag": "ABX9TyOuHCEm3PyD/TCbJdw8Q50C",
      "include_colab_link": true
    },
    "kernelspec": {
      "name": "python3",
      "display_name": "Python 3"
    },
    "language_info": {
      "name": "python"
    }
  },
  "cells": [
    {
      "cell_type": "markdown",
      "metadata": {
        "id": "view-in-github",
        "colab_type": "text"
      },
      "source": [
        "<a href=\"https://colab.research.google.com/github/wabarcellos/logica-programacao/blob/main/Projeto1_Calculadora_inteligente.ipynb\" target=\"_parent\"><img src=\"https://colab.research.google.com/assets/colab-badge.svg\" alt=\"Open In Colab\"/></a>"
      ]
    },
    {
      "cell_type": "markdown",
      "source": [
        "# Calculadora inteligente 🔢\n",
        "\n",
        "\n",
        "**Aluna:** Walessa Barcellos\n",
        "\n",
        "**Data:** 03/11/2024\n",
        "\n",
        "\n",
        "\n",
        "## ↪ Passo a passo:\n",
        "\n",
        "* Utilize o comando 'input' para receber ao menos 2 números de entrada do usuário;\n",
        "\n",
        "* Converta os valores recebidos pelo usuário para número inteiro (int) ou ponto flutuante (float);\n",
        "\n",
        "* Implemente ao menos 4 operações matemáticas em seu código;\n",
        "\n",
        "* Adicione um laço de repetição ou uma condicional. Por exemplo: você pode permitir que o usuário escolha qual operação realizar ou criar um loop que permita ao usuário realizar várias operações consecutivas;\n",
        "\n",
        "* Utilize o comando 'print' para exibir o resultado da operação matemática."
      ],
      "metadata": {
        "id": "C1n2bmBkS3Ky"
      }
    },
    {
      "cell_type": "code",
      "source": [
        "# Laço de repetição para permitir várias operações\n",
        "while True:\n",
        "    # Recebe os números do usuário\n",
        "    num1 = float(input(\"Por favor, insira o primeiro número: \"))\n",
        "    num2 = float(input(\"Por favor, insira o segundo número: \"))\n",
        "\n",
        "    # Mostra as opções de operações\n",
        "    print(\"Escolha uma operação:\")\n",
        "    print(\"1. Soma\")\n",
        "    print(\"2. Subtração\")\n",
        "    print(\"3. Multiplicação\")\n",
        "    print(\"4. Divisão\")\n",
        "    print(\"5. Sair\")\n",
        "\n",
        "    # Recebe a opção do usuário\n",
        "    opcao = input(\"Digite o número da operação desejada (1-5): \")\n",
        "\n",
        "    # Verifica se o usuário deseja sair\n",
        "    if opcao == '5':\n",
        "        print(\"Saindo do programa. Até logo!\")\n",
        "        break\n",
        "\n",
        "    # Verifica se a opção é válida\n",
        "    if opcao not in ('1', '2', '3', '4'):\n",
        "        print(\"Opção inválida! Tente novamente.\\n\")\n",
        "        continue\n",
        "\n",
        "    # Converte a opção para inteiro\n",
        "    opcao = int(opcao)\n",
        "\n",
        "    # Realiza o cálculo e exibe o resultado\n",
        "    if opcao == 1:\n",
        "        resultado = num1 + num2\n",
        "        print(f\"O resultado da soma é: {resultado}\\n\")\n",
        "    elif opcao == 2:\n",
        "        resultado = num1 - num2\n",
        "        print(f\"O resultado da subtração é: {resultado}\\n\")\n",
        "    elif opcao == 3:\n",
        "        resultado = num1 * num2\n",
        "        print(f\"O resultado da multiplicação é: {resultado}\\n\")\n",
        "    elif opcao == 4:\n",
        "        if num2 != 0:\n",
        "            resultado = num1 / num2\n",
        "            print(f\"O resultado da divisão é: {resultado}\\n\")\n",
        "        else:\n",
        "            print(\"Erro: Divisão por zero!\\n\")\n"
      ],
      "metadata": {
        "colab": {
          "base_uri": "https://localhost:8080/"
        },
        "id": "fcF4A41DZRDa",
        "outputId": "e15b8f33-b864-41e7-c627-7e61185a926a"
      },
      "execution_count": null,
      "outputs": [
        {
          "output_type": "stream",
          "name": "stdout",
          "text": [
            "Por favor, insira o primeiro número: 5\n",
            "Por favor, insira o segundo número: 5\n",
            "Escolha uma operação:\n",
            "1. Soma\n",
            "2. Subtração\n",
            "3. Multiplicação\n",
            "4. Divisão\n",
            "5. Sair\n",
            "Digite o número da operação desejada (1-5): 4\n",
            "O resultado da divisão é: 1.0\n",
            "\n",
            "Por favor, insira o primeiro número: 5\n",
            "Por favor, insira o segundo número: 2\n",
            "Escolha uma operação:\n",
            "1. Soma\n",
            "2. Subtração\n",
            "3. Multiplicação\n",
            "4. Divisão\n",
            "5. Sair\n",
            "Digite o número da operação desejada (1-5): 5\n",
            "Saindo do programa. Até logo!\n"
          ]
        }
      ]
    }
  ]
}